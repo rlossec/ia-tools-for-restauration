{
 "cells": [
  {
   "cell_type": "code",
   "execution_count": 19,
   "id": "4fffaf0b-7e67-44d4-a019-32eb22a003f8",
   "metadata": {},
   "outputs": [],
   "source": [
    "import os \n",
    "import requests\n",
    "from dotenv import load_dotenv\n",
    "from hashlib import md5\n",
    "import json\n",
    "\n",
    "import pandas as pd\n",
    "\n",
    "from urllib.parse import urljoin"
   ]
  },
  {
   "cell_type": "code",
   "execution_count": 4,
   "id": "63c00439-86de-4b09-9de6-75142d5797df",
   "metadata": {},
   "outputs": [],
   "source": [
    "DATA_PATH = 'data/0_yelp_data/'"
   ]
  },
  {
   "cell_type": "code",
   "execution_count": 27,
   "id": "b6cc1289-3b03-43b4-b3ec-5cf85e024cdf",
   "metadata": {},
   "outputs": [],
   "source": [
    "API_URL = 'https://api.yelp.com/v3/'\n",
    "API_URL_GRAPHQL = \"https://api.yelp.com/v3/graphql\""
   ]
  },
  {
   "cell_type": "markdown",
   "id": "ea76a3b4-c7cb-44b3-a830-f497df4cc439",
   "metadata": {},
   "source": [
    "### Chargement des variables d'environnement"
   ]
  },
  {
   "cell_type": "code",
   "execution_count": 23,
   "id": "9e757b04-e244-49b0-8a58-d38a0f3abcb3",
   "metadata": {},
   "outputs": [],
   "source": [
    "load_dotenv()\n",
    "YELP_CLIENT_ID = os.getenv('YELP_CLIENT_ID')\n",
    "YELP_API_KEY = os.getenv('YELP_API_KEY')\n",
    "YELP_APP = os.getenv('YELP_APP')"
   ]
  },
  {
   "cell_type": "code",
   "execution_count": 44,
   "id": "392e8906-e79e-45ef-9f98-5b00555c5337",
   "metadata": {},
   "outputs": [],
   "source": [
    "if not YELP_CLIENT_ID:\n",
    "    raise Exception(\n",
    "        f\"\"\"No YELP_CLIENT_ID in environment variable.\n",
    "        You need a environment variable corresponding to a Yelp Client ID.\n",
    "        Then set it in a .env file in the same folder as this script.\"\"\")\n",
    "\n",
    "if not YELP_API_KEY:\n",
    "    raise Exception(\n",
    "        f\"\"\"No YELP_API_KEY in environment variable.\n",
    "        You need a environment variable corresponding to a Yelp API Key.\n",
    "        Then set it in a .env file in the same folder as this script.\"\"\")\n",
    "\n",
    "if not YELP_API_KEY:\n",
    "    raise Exception(\n",
    "        f\"\"\"No YELP_APP in environment variable.\n",
    "        You need a environment variable corresponding to a Yelp API Key.\n",
    "        Then set it in a .env file in the same folder as this script.\"\"\")"
   ]
  },
  {
   "cell_type": "code",
   "execution_count": 45,
   "id": "a88123fa-e6be-46a7-85ac-b4d6fcbc76d3",
   "metadata": {},
   "outputs": [],
   "source": [
    "uri = 'businesses/search'\n",
    "url = urljoin(API_URL, uri)"
   ]
  },
  {
   "cell_type": "markdown",
   "id": "d8a35d51-7402-4af0-9654-fd20ec04813f",
   "metadata": {},
   "source": [
    "### Premier test"
   ]
  },
  {
   "cell_type": "code",
   "execution_count": 59,
   "id": "8a2405eb-28af-4afc-b4cf-c97b7f39cea6",
   "metadata": {},
   "outputs": [],
   "source": [
    "headers = {\n",
    "    'Authorization': f'Bearer {YELP_API_KEY}',\n",
    "    'Content-Type': 'application/graphql',\n",
    "    }"
   ]
  },
  {
   "cell_type": "code",
   "execution_count": 60,
   "id": "f21b745c-aa52-4c7e-8e58-2b2b1e767dab",
   "metadata": {},
   "outputs": [],
   "source": [
    "params = {'term':'restaurants',\n",
    "          'location':'Paris',\n",
    "          'offset':0, 'limit':50}"
   ]
  },
  {
   "cell_type": "code",
   "execution_count": 61,
   "id": "b5585fd6-b10f-4d24-ab21-ad3b03667183",
   "metadata": {},
   "outputs": [],
   "source": [
    "request = requests.get(url, params=params,\n",
    "                       headers=headers)"
   ]
  },
  {
   "cell_type": "code",
   "execution_count": 62,
   "id": "179554af-31d5-48e5-a912-efa361f37c18",
   "metadata": {},
   "outputs": [
    {
     "name": "stdout",
     "output_type": "stream",
     "text": [
      "The status code is 200\n"
     ]
    }
   ],
   "source": [
    "print(f'The status code is {request.status_code}')"
   ]
  },
  {
   "cell_type": "code",
   "execution_count": 50,
   "id": "c87d4ff9-6646-4012-b94f-4546fa91d516",
   "metadata": {},
   "outputs": [],
   "source": [
    "reponse = request.text"
   ]
  },
  {
   "cell_type": "markdown",
   "id": "598fe1ff-b39f-4473-86ad-52cb950c8bd5",
   "metadata": {},
   "source": [
    "GET https://api.yelp.com/v3/businesses/{id}/reviews"
   ]
  },
  {
   "cell_type": "markdown",
   "id": "9d817002-cd56-44a1-9901-01465f02466d",
   "metadata": {},
   "source": [
    "### Fonction Fetch"
   ]
  },
  {
   "cell_type": "code",
   "execution_count": 51,
   "id": "64aaa9fb-8bc8-4761-bd49-12a2ef6f51c2",
   "metadata": {},
   "outputs": [],
   "source": [
    "def fetch_restaurants_data(location):\n",
    "\n",
    "    businesses = pd.DataFrame(\n",
    "        columns=[\n",
    "            \"business_alias\",\n",
    "            \"business_review_count\",\n",
    "            \"business_rating\",\n",
    "            \"business_price\",\n",
    "            \"business_city\",\n",
    "            \"business_country\",\n",
    "            \"business_categories\",\n",
    "            \"business_parent_categories\",\n",
    "        ]\n",
    "    )\n",
    "    reviews = pd.DataFrame(\n",
    "        columns=[\n",
    "            \"business_alias\",\n",
    "            \"review_text\",\n",
    "            \"review_rating\",\n",
    "        ]\n",
    "    )\n",
    "    photos = pd.DataFrame(\n",
    "        columns=[\n",
    "            \"business_alias\",\n",
    "            \"photo_url\",\n",
    "        ]\n",
    "    )\n",
    "    \n",
    "    count = 200\n",
    "    limit = 50 \n",
    "\n",
    "    for offset in range(0, count, limit):\n",
    "        query = f'{{\\n\\\n",
    "                    search(\\\n",
    "                        categories: \"restaurants\", \\\n",
    "                        location: \"{ location }\", \\\n",
    "                        offset: { offset }, \\\n",
    "                        limit:  { limit }\\\n",
    "                    ) {{\\n\\\n",
    "                        business {{\\n\\\n",
    "                            alias\\n\\\n",
    "                            review_count\\n\\\n",
    "                            rating\\n\\\n",
    "                            price\\n\\\n",
    "                            location {{\\n\\\n",
    "                                city\\n\\\n",
    "                                country\\n\\\n",
    "                            }}\\n\\\n",
    "                            categories {{\\n\\\n",
    "                                alias\\n\\\n",
    "                                parent_categories {{\\n\\\n",
    "                                    alias\\n\\\n",
    "                                }}\\n\\\n",
    "                            }}\\n\\\n",
    "                            photos\\n\\\n",
    "                            reviews {{\\n\\\n",
    "                                text\\n\\\n",
    "                                rating\\n\\\n",
    "                            }}\\n\\\n",
    "                        }}\\n\\\n",
    "                    }}\\n\\\n",
    "                }}'\n",
    "        headers = {\n",
    "        'Authorization': 'Bearer %s' % yelp_key,\n",
    "        'Content-Type': 'application/graphql',\n",
    "        }\n",
    "        response = requests.post(API_URL_GRAPHQL, headers=headers, data=query)\n",
    "        \n",
    "        if not response.status_code == 200:\n",
    "            raise Exception(\n",
    "                \"Yelp API request failed with status code \"\n",
    "                + str(response.status_code)\n",
    "                + f\" . Response text: { response.text }\"\n",
    "            )\n",
    "\n",
    "\n",
    "        data = response.json()\n",
    "\n",
    "        if \"errors\" in data:\n",
    "            raise Exception(\n",
    "                f\"API request failed with errors: { data['errors'] }\")\n",
    "            \"business_alias\",\n",
    "            \"business_review_count\",\n",
    "            \"business_rating\",\n",
    "            \"business_price\",\n",
    "            \"business_city\",\n",
    "            \"business_country\",\n",
    "            \"business_categories\",\n",
    "            \"business_parent_categories\",\n",
    "        \n",
    "        for business in data.get(\"data\", {}).get(\"search\", {}).get(\"business\", []):\n",
    "\n",
    "            businesses = pd.concat([businesses,\n",
    "                pd.DataFrame.from_dict({\n",
    "                    \"business_alias\": [business.get(\"alias\")],\n",
    "                    \"business_review_count\": [business.get(\"review_count\")],\n",
    "                    \"business_rating\": [business.get(\"rating\")],\n",
    "                    \"business_price\": [len(business.get(\"price\")) if business.get(\"price\") is not None else 0],\n",
    "                    \"business_city\": [business.get(\"location\", {}).get(\"city\")],\n",
    "                    \"business_state\": [business.get(\"location\", {}).get(\"state\")],\n",
    "                    \"business_country\": [business.get(\"location\", {}).get(\"country\")],\n",
    "                    \"business_categories\": [json.dumps(\n",
    "                        list(\n",
    "                            {  # convert to a set to remove duplicates\n",
    "                                cat.get(\"alias\")\n",
    "                                for cat in business.get(\"categories\", [])\n",
    "                            }\n",
    "                        )\n",
    "                    )],\n",
    "                    \"business_parent_categories\": [json.dumps(\n",
    "                        list(\n",
    "                            {  # convert to a set to remove duplicates\n",
    "                                parent_cat.get(\"alias\")\n",
    "                                for cat in business.get(\"categories\", [])\n",
    "                                for parent_cat in cat.get(\"parent_categories\", [])\n",
    "                            }\n",
    "                        )\n",
    "                    )],\n",
    "                })\n",
    "                ],\n",
    "                \n",
    "                ignore_index=True,\n",
    "            )\n",
    "\n",
    "            for photo in business.get(\"photos\", []) or []:\n",
    "                photos = pd.concat([photos,\n",
    "                    pd.DataFrame.from_dict({\n",
    "                        \"business_alias\": [business.get(\"alias\")],\n",
    "                        \"photo_url\": [photo],\n",
    "                        \"file_name\": [business.get(\"alias\")\n",
    "                        + \"_\"\n",
    "                        + md5(photo.encode(\"utf-8\")).hexdigest()  # nosec: B303\n",
    "                        + \".jpg\"],\n",
    "                    })\n",
    "                    ],\n",
    "                    ignore_index=True,\n",
    "                )\n",
    "\n",
    "            for review in business.get(\"reviews\", []) or []:\n",
    "                # Add the review data to the dataframe\n",
    "                reviews = pd.concat([reviews,\n",
    "                    pd.DataFrame.from_dict({\n",
    "                        \"business_alias\": [business.get(\"alias\")],\n",
    "                        \"review_text\": [review.get(\"text\")],\n",
    "                        \"review_rating\": [review.get(\"rating\")],\n",
    "                    })\n",
    "                    ],\n",
    "                    ignore_index=True,\n",
    "                )\n",
    "    return businesses, reviews, photos\n",
    "    \n",
    "    "
   ]
  },
  {
   "cell_type": "markdown",
   "id": "28ecad2e-15ae-47b9-95af-7629719cdb2d",
   "metadata": {},
   "source": [
    "### Fetch"
   ]
  },
  {
   "cell_type": "code",
   "execution_count": 53,
   "id": "4f12495f-b035-4f0e-9415-b8acb45e8aa6",
   "metadata": {},
   "outputs": [],
   "source": [
    "businesses, reviews, photos = fetch_restaurants_data('Paris')"
   ]
  },
  {
   "cell_type": "markdown",
   "id": "c8442660-24c2-4e3f-8673-764593b83ca0",
   "metadata": {},
   "source": [
    "### Sauvegarde en csv"
   ]
  },
  {
   "cell_type": "code",
   "execution_count": 40,
   "id": "44ea2613-9467-4c7f-ae82-e2ef58282136",
   "metadata": {},
   "outputs": [],
   "source": [
    "if not os.path.exists(DATA_PATH):\n",
    "    os.makedirs(DATA_PATH)\n",
    "url = urljoin(DATA_PATH, 'business.csv')\n",
    "businesses.to_csv(url)"
   ]
  },
  {
   "cell_type": "code",
   "execution_count": 41,
   "id": "d32012e9-c9f8-48b4-a27b-b375016511c8",
   "metadata": {},
   "outputs": [],
   "source": [
    "if not os.path.exists(DATA_PATH):\n",
    "    os.makedirs(DATA_PATH)\n",
    "url = urljoin(DATA_PATH, 'reviews.csv')\n",
    "reviews.to_csv(url)"
   ]
  },
  {
   "cell_type": "code",
   "execution_count": 42,
   "id": "765f001f-1fa7-4993-903e-085f8efb3eaa",
   "metadata": {},
   "outputs": [],
   "source": [
    "if not os.path.exists(DATA_PATH):\n",
    "    os.makedirs(DATA_PATH)\n",
    "url = urljoin(DATA_PATH, 'photos.csv')\n",
    "photos.to_csv(url)"
   ]
  }
 ],
 "metadata": {
  "kernelspec": {
   "display_name": "Python 3 (ipykernel)",
   "language": "python",
   "name": "python3"
  },
  "language_info": {
   "codemirror_mode": {
    "name": "ipython",
    "version": 3
   },
   "file_extension": ".py",
   "mimetype": "text/x-python",
   "name": "python",
   "nbconvert_exporter": "python",
   "pygments_lexer": "ipython3",
   "version": "3.10.13"
  }
 },
 "nbformat": 4,
 "nbformat_minor": 5
}
