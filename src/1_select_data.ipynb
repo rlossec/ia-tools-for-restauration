{
 "cells": [
  {
   "cell_type": "code",
   "execution_count": 1,
   "id": "8f7e1816-aa89-424a-829a-55b09c592c8f",
   "metadata": {},
   "outputs": [],
   "source": [
    "import pandas as pd"
   ]
  },
  {
   "cell_type": "markdown",
   "id": "bed59293-a072-4647-a2e1-5bb4ea549396",
   "metadata": {},
   "source": [
    "# 1. Données"
   ]
  },
  {
   "cell_type": "code",
   "execution_count": 4,
   "id": "93b2f9bd-3d3f-4aec-ae5d-1272f7ce8854",
   "metadata": {},
   "outputs": [],
   "source": [
    "RAW_PATH = 'data/1_raw_data/'\n",
    "DATA_PATH = 'data/2_preprocessed_data/'"
   ]
  },
  {
   "cell_type": "markdown",
   "id": "fc2ac8a1-05d5-4986-9d53-d05a0ce74c7a",
   "metadata": {
    "tags": []
   },
   "source": [
    "## 1.1. Business"
   ]
  },
  {
   "cell_type": "code",
   "execution_count": 14,
   "id": "e555f46a-df31-4878-aaa2-2c0c1432b122",
   "metadata": {},
   "outputs": [],
   "source": [
    "business = pd.read_json(RAW_PATH + 'business.json', lines=True)"
   ]
  },
  {
   "cell_type": "code",
   "execution_count": 15,
   "id": "0e201c88-50e9-4e0d-9914-320538e7c20e",
   "metadata": {},
   "outputs": [
    {
     "data": {
      "text/plain": [
       "(150346, 14)"
      ]
     },
     "execution_count": 15,
     "metadata": {},
     "output_type": "execute_result"
    }
   ],
   "source": [
    "business.shape"
   ]
  },
  {
   "cell_type": "code",
   "execution_count": 16,
   "id": "7076aac5-8c17-45a7-897f-75b683f313b5",
   "metadata": {},
   "outputs": [
    {
     "data": {
      "text/html": [
       "<div>\n",
       "<style scoped>\n",
       "    .dataframe tbody tr th:only-of-type {\n",
       "        vertical-align: middle;\n",
       "    }\n",
       "\n",
       "    .dataframe tbody tr th {\n",
       "        vertical-align: top;\n",
       "    }\n",
       "\n",
       "    .dataframe thead th {\n",
       "        text-align: right;\n",
       "    }\n",
       "</style>\n",
       "<table border=\"1\" class=\"dataframe\">\n",
       "  <thead>\n",
       "    <tr style=\"text-align: right;\">\n",
       "      <th></th>\n",
       "      <th>business_id</th>\n",
       "      <th>name</th>\n",
       "      <th>address</th>\n",
       "      <th>city</th>\n",
       "      <th>state</th>\n",
       "      <th>postal_code</th>\n",
       "      <th>latitude</th>\n",
       "      <th>longitude</th>\n",
       "      <th>stars</th>\n",
       "      <th>review_count</th>\n",
       "      <th>is_open</th>\n",
       "      <th>attributes</th>\n",
       "      <th>categories</th>\n",
       "      <th>hours</th>\n",
       "    </tr>\n",
       "  </thead>\n",
       "  <tbody>\n",
       "    <tr>\n",
       "      <th>100843</th>\n",
       "      <td>QmuwC83Ozq7rhCiYc5gBcA</td>\n",
       "      <td>Sutton Galleries</td>\n",
       "      <td>519 Royal St</td>\n",
       "      <td>New Orleans</td>\n",
       "      <td>LA</td>\n",
       "      <td>70130</td>\n",
       "      <td>29.956895</td>\n",
       "      <td>-90.065973</td>\n",
       "      <td>3.5</td>\n",
       "      <td>14</td>\n",
       "      <td>1</td>\n",
       "      <td>{'BusinessAcceptsCreditCards': 'True', 'Busine...</td>\n",
       "      <td>Shopping, Art Galleries, Arts &amp; Entertainment</td>\n",
       "      <td>{'Monday': '9:0-17:0', 'Tuesday': '9:0-17:0', ...</td>\n",
       "    </tr>\n",
       "    <tr>\n",
       "      <th>32628</th>\n",
       "      <td>DFaEBLXv0z5eVac3pY8mKQ</td>\n",
       "      <td>SquareTrade Go</td>\n",
       "      <td></td>\n",
       "      <td>St. Louis</td>\n",
       "      <td>MO</td>\n",
       "      <td>63146</td>\n",
       "      <td>38.688757</td>\n",
       "      <td>-90.464391</td>\n",
       "      <td>4.0</td>\n",
       "      <td>11</td>\n",
       "      <td>1</td>\n",
       "      <td>{'BusinessAcceptsCreditCards': 'True', 'Busine...</td>\n",
       "      <td>IT Services &amp; Computer Repair, Mobile Phone Re...</td>\n",
       "      <td>{'Monday': '0:0-0:0', 'Tuesday': '0:0-0:0', 'W...</td>\n",
       "    </tr>\n",
       "    <tr>\n",
       "      <th>64710</th>\n",
       "      <td>l4TrbGX-sCTc2OR2VGCxjg</td>\n",
       "      <td>Vista Inn</td>\n",
       "      <td>5770 Old Hickory Blvd</td>\n",
       "      <td>Hermitage</td>\n",
       "      <td>TN</td>\n",
       "      <td>37076</td>\n",
       "      <td>36.171810</td>\n",
       "      <td>-86.601728</td>\n",
       "      <td>1.5</td>\n",
       "      <td>13</td>\n",
       "      <td>1</td>\n",
       "      <td>{'BusinessAcceptsCreditCards': 'True', 'Restau...</td>\n",
       "      <td>Event Planning &amp; Services, Hotels &amp; Travel, Ho...</td>\n",
       "      <td>{'Monday': '0:0-12:0', 'Tuesday': '0:0-12:0', ...</td>\n",
       "    </tr>\n",
       "    <tr>\n",
       "      <th>86669</th>\n",
       "      <td>hiP3H0wW45I0jZI7KafzZg</td>\n",
       "      <td>Spicy Memory</td>\n",
       "      <td>1105 Walnut St</td>\n",
       "      <td>Philadelphia</td>\n",
       "      <td>PA</td>\n",
       "      <td>19107</td>\n",
       "      <td>39.948947</td>\n",
       "      <td>-75.159238</td>\n",
       "      <td>4.0</td>\n",
       "      <td>128</td>\n",
       "      <td>0</td>\n",
       "      <td>{'WheelchairAccessible': 'True', 'RestaurantsD...</td>\n",
       "      <td>Szechuan, Restaurants, Chinese, Asian Fusion, ...</td>\n",
       "      <td>{'Monday': '11:0-22:0', 'Tuesday': '11:0-22:0'...</td>\n",
       "    </tr>\n",
       "    <tr>\n",
       "      <th>97019</th>\n",
       "      <td>ygfNttCMGWAuM69R_-SoPQ</td>\n",
       "      <td>Curl Hair and Wellness</td>\n",
       "      <td>1029 W Lancaster Ave</td>\n",
       "      <td>Bryn Mawr</td>\n",
       "      <td>PA</td>\n",
       "      <td>19010</td>\n",
       "      <td>40.024220</td>\n",
       "      <td>-75.323469</td>\n",
       "      <td>4.0</td>\n",
       "      <td>63</td>\n",
       "      <td>1</td>\n",
       "      <td>{'BusinessParking': '{'garage': False, 'street...</td>\n",
       "      <td>Hair Extensions, Hair Stylists, Hair Salons, B...</td>\n",
       "      <td>{'Tuesday': '10:0-18:0', 'Wednesday': '10:0-19...</td>\n",
       "    </tr>\n",
       "  </tbody>\n",
       "</table>\n",
       "</div>"
      ],
      "text/plain": [
       "                   business_id                    name                address  \\\n",
       "100843  QmuwC83Ozq7rhCiYc5gBcA        Sutton Galleries           519 Royal St   \n",
       "32628   DFaEBLXv0z5eVac3pY8mKQ          SquareTrade Go                          \n",
       "64710   l4TrbGX-sCTc2OR2VGCxjg               Vista Inn  5770 Old Hickory Blvd   \n",
       "86669   hiP3H0wW45I0jZI7KafzZg            Spicy Memory         1105 Walnut St   \n",
       "97019   ygfNttCMGWAuM69R_-SoPQ  Curl Hair and Wellness   1029 W Lancaster Ave   \n",
       "\n",
       "                city state postal_code   latitude  longitude  stars  \\\n",
       "100843   New Orleans    LA       70130  29.956895 -90.065973    3.5   \n",
       "32628      St. Louis    MO       63146  38.688757 -90.464391    4.0   \n",
       "64710      Hermitage    TN       37076  36.171810 -86.601728    1.5   \n",
       "86669   Philadelphia    PA       19107  39.948947 -75.159238    4.0   \n",
       "97019      Bryn Mawr    PA       19010  40.024220 -75.323469    4.0   \n",
       "\n",
       "        review_count  is_open  \\\n",
       "100843            14        1   \n",
       "32628             11        1   \n",
       "64710             13        1   \n",
       "86669            128        0   \n",
       "97019             63        1   \n",
       "\n",
       "                                               attributes  \\\n",
       "100843  {'BusinessAcceptsCreditCards': 'True', 'Busine...   \n",
       "32628   {'BusinessAcceptsCreditCards': 'True', 'Busine...   \n",
       "64710   {'BusinessAcceptsCreditCards': 'True', 'Restau...   \n",
       "86669   {'WheelchairAccessible': 'True', 'RestaurantsD...   \n",
       "97019   {'BusinessParking': '{'garage': False, 'street...   \n",
       "\n",
       "                                               categories  \\\n",
       "100843      Shopping, Art Galleries, Arts & Entertainment   \n",
       "32628   IT Services & Computer Repair, Mobile Phone Re...   \n",
       "64710   Event Planning & Services, Hotels & Travel, Ho...   \n",
       "86669   Szechuan, Restaurants, Chinese, Asian Fusion, ...   \n",
       "97019   Hair Extensions, Hair Stylists, Hair Salons, B...   \n",
       "\n",
       "                                                    hours  \n",
       "100843  {'Monday': '9:0-17:0', 'Tuesday': '9:0-17:0', ...  \n",
       "32628   {'Monday': '0:0-0:0', 'Tuesday': '0:0-0:0', 'W...  \n",
       "64710   {'Monday': '0:0-12:0', 'Tuesday': '0:0-12:0', ...  \n",
       "86669   {'Monday': '11:0-22:0', 'Tuesday': '11:0-22:0'...  \n",
       "97019   {'Tuesday': '10:0-18:0', 'Wednesday': '10:0-19...  "
      ]
     },
     "execution_count": 16,
     "metadata": {},
     "output_type": "execute_result"
    }
   ],
   "source": [
    "business.sample(5)"
   ]
  },
  {
   "cell_type": "code",
   "execution_count": 17,
   "id": "13939d21-dd06-4412-b8d3-1bb7ea54ef2f",
   "metadata": {},
   "outputs": [
    {
     "data": {
      "text/plain": [
       "business_id         0\n",
       "name                0\n",
       "address             0\n",
       "city                0\n",
       "state               0\n",
       "postal_code         0\n",
       "latitude            0\n",
       "longitude           0\n",
       "stars               0\n",
       "review_count        0\n",
       "is_open             0\n",
       "attributes      13744\n",
       "categories        103\n",
       "hours           23223\n",
       "dtype: int64"
      ]
     },
     "execution_count": 17,
     "metadata": {},
     "output_type": "execute_result"
    }
   ],
   "source": [
    "business.isnull().sum()"
   ]
  },
  {
   "cell_type": "code",
   "execution_count": 18,
   "id": "322902d2-0384-426c-8c18-3bda3e957d76",
   "metadata": {},
   "outputs": [],
   "source": [
    "business.categories.fillna('Unknown', inplace=True)"
   ]
  },
  {
   "cell_type": "code",
   "execution_count": 19,
   "id": "5cd76bff-92f0-4198-a57b-1bb7ed05bbde",
   "metadata": {},
   "outputs": [
    {
     "data": {
      "text/html": [
       "<div>\n",
       "<style scoped>\n",
       "    .dataframe tbody tr th:only-of-type {\n",
       "        vertical-align: middle;\n",
       "    }\n",
       "\n",
       "    .dataframe tbody tr th {\n",
       "        vertical-align: top;\n",
       "    }\n",
       "\n",
       "    .dataframe thead th {\n",
       "        text-align: right;\n",
       "    }\n",
       "</style>\n",
       "<table border=\"1\" class=\"dataframe\">\n",
       "  <thead>\n",
       "    <tr style=\"text-align: right;\">\n",
       "      <th></th>\n",
       "      <th>business_id</th>\n",
       "      <th>name</th>\n",
       "      <th>address</th>\n",
       "      <th>city</th>\n",
       "      <th>state</th>\n",
       "      <th>postal_code</th>\n",
       "      <th>latitude</th>\n",
       "      <th>longitude</th>\n",
       "      <th>stars</th>\n",
       "      <th>review_count</th>\n",
       "      <th>is_open</th>\n",
       "      <th>attributes</th>\n",
       "      <th>categories</th>\n",
       "      <th>hours</th>\n",
       "    </tr>\n",
       "  </thead>\n",
       "  <tbody>\n",
       "    <tr>\n",
       "      <th>3</th>\n",
       "      <td>MTSW4McQd7CbVtyjqoe9mw</td>\n",
       "      <td>St Honore Pastries</td>\n",
       "      <td>935 Race St</td>\n",
       "      <td>Philadelphia</td>\n",
       "      <td>PA</td>\n",
       "      <td>19107</td>\n",
       "      <td>39.955505</td>\n",
       "      <td>-75.155564</td>\n",
       "      <td>4.0</td>\n",
       "      <td>80</td>\n",
       "      <td>1</td>\n",
       "      <td>{'RestaurantsDelivery': 'False', 'OutdoorSeati...</td>\n",
       "      <td>Restaurants, Food, Bubble Tea, Coffee &amp; Tea, B...</td>\n",
       "      <td>{'Monday': '7:0-20:0', 'Tuesday': '7:0-20:0', ...</td>\n",
       "    </tr>\n",
       "    <tr>\n",
       "      <th>15</th>\n",
       "      <td>MUTTqe8uqyMdBl186RmNeA</td>\n",
       "      <td>Tuna Bar</td>\n",
       "      <td>205 Race St</td>\n",
       "      <td>Philadelphia</td>\n",
       "      <td>PA</td>\n",
       "      <td>19106</td>\n",
       "      <td>39.953949</td>\n",
       "      <td>-75.143226</td>\n",
       "      <td>4.0</td>\n",
       "      <td>245</td>\n",
       "      <td>1</td>\n",
       "      <td>{'RestaurantsReservations': 'True', 'Restauran...</td>\n",
       "      <td>Sushi Bars, Restaurants, Japanese</td>\n",
       "      <td>{'Tuesday': '13:30-22:0', 'Wednesday': '13:30-...</td>\n",
       "    </tr>\n",
       "    <tr>\n",
       "      <th>19</th>\n",
       "      <td>ROeacJQwBeh05Rqg7F6TCg</td>\n",
       "      <td>BAP</td>\n",
       "      <td>1224 South St</td>\n",
       "      <td>Philadelphia</td>\n",
       "      <td>PA</td>\n",
       "      <td>19147</td>\n",
       "      <td>39.943223</td>\n",
       "      <td>-75.162568</td>\n",
       "      <td>4.5</td>\n",
       "      <td>205</td>\n",
       "      <td>1</td>\n",
       "      <td>{'NoiseLevel': 'u'quiet'', 'GoodForMeal': '{'d...</td>\n",
       "      <td>Korean, Restaurants</td>\n",
       "      <td>{'Monday': '11:30-20:30', 'Tuesday': '11:30-20...</td>\n",
       "    </tr>\n",
       "    <tr>\n",
       "      <th>28</th>\n",
       "      <td>QdN72BWoyFypdGJhhI5r7g</td>\n",
       "      <td>Bar One</td>\n",
       "      <td>767 S 9th St</td>\n",
       "      <td>Philadelphia</td>\n",
       "      <td>PA</td>\n",
       "      <td>19147</td>\n",
       "      <td>39.939825</td>\n",
       "      <td>-75.157447</td>\n",
       "      <td>4.0</td>\n",
       "      <td>65</td>\n",
       "      <td>0</td>\n",
       "      <td>{'Smoking': 'u'no'', 'NoiseLevel': 'u'average'...</td>\n",
       "      <td>Cocktail Bars, Bars, Italian, Nightlife, Resta...</td>\n",
       "      <td>{'Monday': '16:0-0:0', 'Tuesday': '16:0-0:0', ...</td>\n",
       "    </tr>\n",
       "    <tr>\n",
       "      <th>31</th>\n",
       "      <td>Mjboz24M9NlBeiOJKLEd_Q</td>\n",
       "      <td>DeSandro on Main</td>\n",
       "      <td>4105 Main St</td>\n",
       "      <td>Philadelphia</td>\n",
       "      <td>PA</td>\n",
       "      <td>19127</td>\n",
       "      <td>40.022466</td>\n",
       "      <td>-75.218314</td>\n",
       "      <td>3.0</td>\n",
       "      <td>41</td>\n",
       "      <td>0</td>\n",
       "      <td>{'RestaurantsReservations': 'False', 'Caters':...</td>\n",
       "      <td>Pizza, Restaurants, Salad, Soup</td>\n",
       "      <td>{'Tuesday': '17:0-21:30', 'Wednesday': '17:0-1...</td>\n",
       "    </tr>\n",
       "    <tr>\n",
       "      <th>...</th>\n",
       "      <td>...</td>\n",
       "      <td>...</td>\n",
       "      <td>...</td>\n",
       "      <td>...</td>\n",
       "      <td>...</td>\n",
       "      <td>...</td>\n",
       "      <td>...</td>\n",
       "      <td>...</td>\n",
       "      <td>...</td>\n",
       "      <td>...</td>\n",
       "      <td>...</td>\n",
       "      <td>...</td>\n",
       "      <td>...</td>\n",
       "      <td>...</td>\n",
       "    </tr>\n",
       "    <tr>\n",
       "      <th>150287</th>\n",
       "      <td>VZbkSeZtFynEascotq7ExA</td>\n",
       "      <td>Ali Baba Magic Food</td>\n",
       "      <td>37TH And Walnut</td>\n",
       "      <td>Philadelphia</td>\n",
       "      <td>PA</td>\n",
       "      <td>19104</td>\n",
       "      <td>39.953391</td>\n",
       "      <td>-75.196765</td>\n",
       "      <td>4.0</td>\n",
       "      <td>8</td>\n",
       "      <td>0</td>\n",
       "      <td>{'GoodForKids': 'False', 'RestaurantsReservati...</td>\n",
       "      <td>Restaurants, Food Stands</td>\n",
       "      <td>None</td>\n",
       "    </tr>\n",
       "    <tr>\n",
       "      <th>150298</th>\n",
       "      <td>gPr1io7ks0Eo3FDsnDTYfg</td>\n",
       "      <td>Tata Cafe</td>\n",
       "      <td>7201 Germantown Ave</td>\n",
       "      <td>Philadelphia</td>\n",
       "      <td>PA</td>\n",
       "      <td>19119</td>\n",
       "      <td>40.060414</td>\n",
       "      <td>-75.191084</td>\n",
       "      <td>4.0</td>\n",
       "      <td>21</td>\n",
       "      <td>0</td>\n",
       "      <td>{'RestaurantsGoodForGroups': 'True', 'Business...</td>\n",
       "      <td>Sandwiches, Restaurants, Italian</td>\n",
       "      <td>{'Monday': '7:0-17:0', 'Tuesday': '7:0-17:0', ...</td>\n",
       "    </tr>\n",
       "    <tr>\n",
       "      <th>150306</th>\n",
       "      <td>wVxXRFf10zTTAs11nr4xeA</td>\n",
       "      <td>PrimoHoagies</td>\n",
       "      <td>6024 Ridge Ave</td>\n",
       "      <td>Philadelphia</td>\n",
       "      <td>PA</td>\n",
       "      <td>19128</td>\n",
       "      <td>40.032483</td>\n",
       "      <td>-75.214430</td>\n",
       "      <td>3.0</td>\n",
       "      <td>55</td>\n",
       "      <td>1</td>\n",
       "      <td>{'NoiseLevel': 'u'average'', 'RestaurantsTakeO...</td>\n",
       "      <td>Restaurants, Specialty Food, Food, Sandwiches,...</td>\n",
       "      <td>{'Monday': '10:0-21:0', 'Tuesday': '10:0-21:0'...</td>\n",
       "    </tr>\n",
       "    <tr>\n",
       "      <th>150319</th>\n",
       "      <td>8n93L-ilMAsvwUatarykSg</td>\n",
       "      <td>Kitchen Gia</td>\n",
       "      <td>3716 Spruce St</td>\n",
       "      <td>Philadelphia</td>\n",
       "      <td>PA</td>\n",
       "      <td>19104</td>\n",
       "      <td>39.951018</td>\n",
       "      <td>-75.198240</td>\n",
       "      <td>3.0</td>\n",
       "      <td>22</td>\n",
       "      <td>0</td>\n",
       "      <td>{'RestaurantsGoodForGroups': 'True', 'BikePark...</td>\n",
       "      <td>Coffee &amp; Tea, Food, Sandwiches, American (Trad...</td>\n",
       "      <td>{'Monday': '9:0-19:30', 'Tuesday': '9:0-19:30'...</td>\n",
       "    </tr>\n",
       "    <tr>\n",
       "      <th>150336</th>\n",
       "      <td>WnT9NIzQgLlILjPT0kEcsQ</td>\n",
       "      <td>Adelita Taqueria &amp; Restaurant</td>\n",
       "      <td>1108 S 9th St</td>\n",
       "      <td>Philadelphia</td>\n",
       "      <td>PA</td>\n",
       "      <td>19147</td>\n",
       "      <td>39.935982</td>\n",
       "      <td>-75.158665</td>\n",
       "      <td>4.5</td>\n",
       "      <td>35</td>\n",
       "      <td>1</td>\n",
       "      <td>{'WheelchairAccessible': 'False', 'Restaurants...</td>\n",
       "      <td>Restaurants, Mexican</td>\n",
       "      <td>{'Monday': '11:0-22:0', 'Tuesday': '11:0-22:0'...</td>\n",
       "    </tr>\n",
       "  </tbody>\n",
       "</table>\n",
       "<p>5854 rows × 14 columns</p>\n",
       "</div>"
      ],
      "text/plain": [
       "                   business_id                           name  \\\n",
       "3       MTSW4McQd7CbVtyjqoe9mw             St Honore Pastries   \n",
       "15      MUTTqe8uqyMdBl186RmNeA                       Tuna Bar   \n",
       "19      ROeacJQwBeh05Rqg7F6TCg                            BAP   \n",
       "28      QdN72BWoyFypdGJhhI5r7g                        Bar One   \n",
       "31      Mjboz24M9NlBeiOJKLEd_Q               DeSandro on Main   \n",
       "...                        ...                            ...   \n",
       "150287  VZbkSeZtFynEascotq7ExA            Ali Baba Magic Food   \n",
       "150298  gPr1io7ks0Eo3FDsnDTYfg                      Tata Cafe   \n",
       "150306  wVxXRFf10zTTAs11nr4xeA                   PrimoHoagies   \n",
       "150319  8n93L-ilMAsvwUatarykSg                    Kitchen Gia   \n",
       "150336  WnT9NIzQgLlILjPT0kEcsQ  Adelita Taqueria & Restaurant   \n",
       "\n",
       "                    address          city state postal_code   latitude  \\\n",
       "3               935 Race St  Philadelphia    PA       19107  39.955505   \n",
       "15              205 Race St  Philadelphia    PA       19106  39.953949   \n",
       "19            1224 South St  Philadelphia    PA       19147  39.943223   \n",
       "28             767 S 9th St  Philadelphia    PA       19147  39.939825   \n",
       "31             4105 Main St  Philadelphia    PA       19127  40.022466   \n",
       "...                     ...           ...   ...         ...        ...   \n",
       "150287      37TH And Walnut  Philadelphia    PA       19104  39.953391   \n",
       "150298  7201 Germantown Ave  Philadelphia    PA       19119  40.060414   \n",
       "150306       6024 Ridge Ave  Philadelphia    PA       19128  40.032483   \n",
       "150319       3716 Spruce St  Philadelphia    PA       19104  39.951018   \n",
       "150336        1108 S 9th St  Philadelphia    PA       19147  39.935982   \n",
       "\n",
       "        longitude  stars  review_count  is_open  \\\n",
       "3      -75.155564    4.0            80        1   \n",
       "15     -75.143226    4.0           245        1   \n",
       "19     -75.162568    4.5           205        1   \n",
       "28     -75.157447    4.0            65        0   \n",
       "31     -75.218314    3.0            41        0   \n",
       "...           ...    ...           ...      ...   \n",
       "150287 -75.196765    4.0             8        0   \n",
       "150298 -75.191084    4.0            21        0   \n",
       "150306 -75.214430    3.0            55        1   \n",
       "150319 -75.198240    3.0            22        0   \n",
       "150336 -75.158665    4.5            35        1   \n",
       "\n",
       "                                               attributes  \\\n",
       "3       {'RestaurantsDelivery': 'False', 'OutdoorSeati...   \n",
       "15      {'RestaurantsReservations': 'True', 'Restauran...   \n",
       "19      {'NoiseLevel': 'u'quiet'', 'GoodForMeal': '{'d...   \n",
       "28      {'Smoking': 'u'no'', 'NoiseLevel': 'u'average'...   \n",
       "31      {'RestaurantsReservations': 'False', 'Caters':...   \n",
       "...                                                   ...   \n",
       "150287  {'GoodForKids': 'False', 'RestaurantsReservati...   \n",
       "150298  {'RestaurantsGoodForGroups': 'True', 'Business...   \n",
       "150306  {'NoiseLevel': 'u'average'', 'RestaurantsTakeO...   \n",
       "150319  {'RestaurantsGoodForGroups': 'True', 'BikePark...   \n",
       "150336  {'WheelchairAccessible': 'False', 'Restaurants...   \n",
       "\n",
       "                                               categories  \\\n",
       "3       Restaurants, Food, Bubble Tea, Coffee & Tea, B...   \n",
       "15                      Sushi Bars, Restaurants, Japanese   \n",
       "19                                    Korean, Restaurants   \n",
       "28      Cocktail Bars, Bars, Italian, Nightlife, Resta...   \n",
       "31                        Pizza, Restaurants, Salad, Soup   \n",
       "...                                                   ...   \n",
       "150287                           Restaurants, Food Stands   \n",
       "150298                   Sandwiches, Restaurants, Italian   \n",
       "150306  Restaurants, Specialty Food, Food, Sandwiches,...   \n",
       "150319  Coffee & Tea, Food, Sandwiches, American (Trad...   \n",
       "150336                               Restaurants, Mexican   \n",
       "\n",
       "                                                    hours  \n",
       "3       {'Monday': '7:0-20:0', 'Tuesday': '7:0-20:0', ...  \n",
       "15      {'Tuesday': '13:30-22:0', 'Wednesday': '13:30-...  \n",
       "19      {'Monday': '11:30-20:30', 'Tuesday': '11:30-20...  \n",
       "28      {'Monday': '16:0-0:0', 'Tuesday': '16:0-0:0', ...  \n",
       "31      {'Tuesday': '17:0-21:30', 'Wednesday': '17:0-1...  \n",
       "...                                                   ...  \n",
       "150287                                               None  \n",
       "150298  {'Monday': '7:0-17:0', 'Tuesday': '7:0-17:0', ...  \n",
       "150306  {'Monday': '10:0-21:0', 'Tuesday': '10:0-21:0'...  \n",
       "150319  {'Monday': '9:0-19:30', 'Tuesday': '9:0-19:30'...  \n",
       "150336  {'Monday': '11:0-22:0', 'Tuesday': '11:0-22:0'...  \n",
       "\n",
       "[5854 rows x 14 columns]"
      ]
     },
     "execution_count": 19,
     "metadata": {},
     "output_type": "execute_result"
    }
   ],
   "source": [
    "business[(business.categories.apply(lambda x: x.count('Restaurant'))>0) & (business.city == 'Philadelphia')]"
   ]
  },
  {
   "cell_type": "markdown",
   "id": "c161b670-abbb-4923-bd09-5473c7d5fd0f",
   "metadata": {
    "tags": []
   },
   "source": [
    "## 1.2. Review"
   ]
  },
  {
   "cell_type": "code",
   "execution_count": 20,
   "id": "b1c59847-654a-4ddd-902a-3fd869d7bf03",
   "metadata": {},
   "outputs": [],
   "source": [
    "review = pd.read_json(RAW_PATH + 'review.json',\n",
    "                      lines=True,\n",
    "                     dtype={\n",
    "                            \"review_id\": str,\n",
    "                            \"user_id\": str,\n",
    "                            \"business_id\": str,\n",
    "                            \"stars\": 'uint8',\n",
    "                            \"useful\": 'int16',\n",
    "                            \"funny\": 'int16',\n",
    "                            \"cool\": 'int16',\n",
    "                            \"text\": str,\n",
    "                            \"date\": \"datetime64[ns]\",\n",
    "                        }\n",
    "                     )"
   ]
  },
  {
   "cell_type": "code",
   "execution_count": 21,
   "id": "c9203958-f7e0-41cd-9dd4-9bdd16d1a7eb",
   "metadata": {},
   "outputs": [
    {
     "data": {
      "text/html": [
       "<div>\n",
       "<style scoped>\n",
       "    .dataframe tbody tr th:only-of-type {\n",
       "        vertical-align: middle;\n",
       "    }\n",
       "\n",
       "    .dataframe tbody tr th {\n",
       "        vertical-align: top;\n",
       "    }\n",
       "\n",
       "    .dataframe thead th {\n",
       "        text-align: right;\n",
       "    }\n",
       "</style>\n",
       "<table border=\"1\" class=\"dataframe\">\n",
       "  <thead>\n",
       "    <tr style=\"text-align: right;\">\n",
       "      <th></th>\n",
       "      <th>stars</th>\n",
       "      <th>useful</th>\n",
       "      <th>funny</th>\n",
       "      <th>cool</th>\n",
       "    </tr>\n",
       "  </thead>\n",
       "  <tbody>\n",
       "    <tr>\n",
       "      <th>count</th>\n",
       "      <td>6.990280e+06</td>\n",
       "      <td>6.990280e+06</td>\n",
       "      <td>6.990280e+06</td>\n",
       "      <td>6.990280e+06</td>\n",
       "    </tr>\n",
       "    <tr>\n",
       "      <th>mean</th>\n",
       "      <td>3.748584e+00</td>\n",
       "      <td>1.184609e+00</td>\n",
       "      <td>3.265596e-01</td>\n",
       "      <td>4.986175e-01</td>\n",
       "    </tr>\n",
       "    <tr>\n",
       "      <th>std</th>\n",
       "      <td>1.478705e+00</td>\n",
       "      <td>3.253767e+00</td>\n",
       "      <td>1.688729e+00</td>\n",
       "      <td>2.172460e+00</td>\n",
       "    </tr>\n",
       "    <tr>\n",
       "      <th>min</th>\n",
       "      <td>1.000000e+00</td>\n",
       "      <td>-1.000000e+00</td>\n",
       "      <td>-1.000000e+00</td>\n",
       "      <td>-1.000000e+00</td>\n",
       "    </tr>\n",
       "    <tr>\n",
       "      <th>25%</th>\n",
       "      <td>3.000000e+00</td>\n",
       "      <td>0.000000e+00</td>\n",
       "      <td>0.000000e+00</td>\n",
       "      <td>0.000000e+00</td>\n",
       "    </tr>\n",
       "    <tr>\n",
       "      <th>50%</th>\n",
       "      <td>4.000000e+00</td>\n",
       "      <td>0.000000e+00</td>\n",
       "      <td>0.000000e+00</td>\n",
       "      <td>0.000000e+00</td>\n",
       "    </tr>\n",
       "    <tr>\n",
       "      <th>75%</th>\n",
       "      <td>5.000000e+00</td>\n",
       "      <td>1.000000e+00</td>\n",
       "      <td>0.000000e+00</td>\n",
       "      <td>0.000000e+00</td>\n",
       "    </tr>\n",
       "    <tr>\n",
       "      <th>max</th>\n",
       "      <td>5.000000e+00</td>\n",
       "      <td>1.182000e+03</td>\n",
       "      <td>7.920000e+02</td>\n",
       "      <td>4.040000e+02</td>\n",
       "    </tr>\n",
       "  </tbody>\n",
       "</table>\n",
       "</div>"
      ],
      "text/plain": [
       "              stars        useful         funny          cool\n",
       "count  6.990280e+06  6.990280e+06  6.990280e+06  6.990280e+06\n",
       "mean   3.748584e+00  1.184609e+00  3.265596e-01  4.986175e-01\n",
       "std    1.478705e+00  3.253767e+00  1.688729e+00  2.172460e+00\n",
       "min    1.000000e+00 -1.000000e+00 -1.000000e+00 -1.000000e+00\n",
       "25%    3.000000e+00  0.000000e+00  0.000000e+00  0.000000e+00\n",
       "50%    4.000000e+00  0.000000e+00  0.000000e+00  0.000000e+00\n",
       "75%    5.000000e+00  1.000000e+00  0.000000e+00  0.000000e+00\n",
       "max    5.000000e+00  1.182000e+03  7.920000e+02  4.040000e+02"
      ]
     },
     "execution_count": 21,
     "metadata": {},
     "output_type": "execute_result"
    }
   ],
   "source": [
    "review.describe()"
   ]
  },
  {
   "cell_type": "markdown",
   "id": "bcfb7efa-77c7-41cf-9184-b3f67b385686",
   "metadata": {},
   "source": [
    "- Stars  :  1 à 5\n",
    "- Useful : -1 à 1182\n",
    "- Funny  : -1 à 792\n",
    "- Cool   : -1 à 404"
   ]
  },
  {
   "cell_type": "code",
   "execution_count": 22,
   "id": "00849026-399a-40dc-8799-130e4dae180c",
   "metadata": {},
   "outputs": [
    {
     "data": {
      "text/plain": [
       "(6990280, 9)"
      ]
     },
     "execution_count": 22,
     "metadata": {},
     "output_type": "execute_result"
    }
   ],
   "source": [
    "review.shape"
   ]
  },
  {
   "cell_type": "markdown",
   "id": "5b0ec928-6454-49e2-99c8-9ad7e1eecb99",
   "metadata": {
    "jp-MarkdownHeadingCollapsed": true,
    "tags": []
   },
   "source": [
    "## 1.3. Photos"
   ]
  },
  {
   "cell_type": "code",
   "execution_count": 23,
   "id": "cf1dbf6b-e7d9-42d1-a898-09436b8f975f",
   "metadata": {},
   "outputs": [
    {
     "ename": "FileNotFoundError",
     "evalue": "File data/1_raw_data/photos.json does not exist",
     "output_type": "error",
     "traceback": [
      "\u001b[1;31m---------------------------------------------------------------------------\u001b[0m",
      "\u001b[1;31mFileNotFoundError\u001b[0m                         Traceback (most recent call last)",
      "Cell \u001b[1;32mIn[23], line 1\u001b[0m\n\u001b[1;32m----> 1\u001b[0m photos \u001b[38;5;241m=\u001b[39m \u001b[43mpd\u001b[49m\u001b[38;5;241;43m.\u001b[39;49m\u001b[43mread_json\u001b[49m\u001b[43m(\u001b[49m\u001b[43mRAW_PATH\u001b[49m\u001b[43m \u001b[49m\u001b[38;5;241;43m+\u001b[39;49m\u001b[43m \u001b[49m\u001b[38;5;124;43m'\u001b[39;49m\u001b[38;5;124;43mphotos.json\u001b[39;49m\u001b[38;5;124;43m'\u001b[39;49m\u001b[43m,\u001b[49m\u001b[43m \u001b[49m\u001b[43mlines\u001b[49m\u001b[38;5;241;43m=\u001b[39;49m\u001b[38;5;28;43;01mTrue\u001b[39;49;00m\u001b[43m)\u001b[49m\n",
      "File \u001b[1;32m~\\anaconda3\\envs\\tf2\\lib\\site-packages\\pandas\\util\\_decorators.py:211\u001b[0m, in \u001b[0;36mdeprecate_kwarg.<locals>._deprecate_kwarg.<locals>.wrapper\u001b[1;34m(*args, **kwargs)\u001b[0m\n\u001b[0;32m    209\u001b[0m     \u001b[38;5;28;01melse\u001b[39;00m:\n\u001b[0;32m    210\u001b[0m         kwargs[new_arg_name] \u001b[38;5;241m=\u001b[39m new_arg_value\n\u001b[1;32m--> 211\u001b[0m \u001b[38;5;28;01mreturn\u001b[39;00m func(\u001b[38;5;241m*\u001b[39margs, \u001b[38;5;241m*\u001b[39m\u001b[38;5;241m*\u001b[39mkwargs)\n",
      "File \u001b[1;32m~\\anaconda3\\envs\\tf2\\lib\\site-packages\\pandas\\util\\_decorators.py:331\u001b[0m, in \u001b[0;36mdeprecate_nonkeyword_arguments.<locals>.decorate.<locals>.wrapper\u001b[1;34m(*args, **kwargs)\u001b[0m\n\u001b[0;32m    325\u001b[0m \u001b[38;5;28;01mif\u001b[39;00m \u001b[38;5;28mlen\u001b[39m(args) \u001b[38;5;241m>\u001b[39m num_allow_args:\n\u001b[0;32m    326\u001b[0m     warnings\u001b[38;5;241m.\u001b[39mwarn(\n\u001b[0;32m    327\u001b[0m         msg\u001b[38;5;241m.\u001b[39mformat(arguments\u001b[38;5;241m=\u001b[39m_format_argument_list(allow_args)),\n\u001b[0;32m    328\u001b[0m         \u001b[38;5;167;01mFutureWarning\u001b[39;00m,\n\u001b[0;32m    329\u001b[0m         stacklevel\u001b[38;5;241m=\u001b[39mfind_stack_level(),\n\u001b[0;32m    330\u001b[0m     )\n\u001b[1;32m--> 331\u001b[0m \u001b[38;5;28;01mreturn\u001b[39;00m func(\u001b[38;5;241m*\u001b[39margs, \u001b[38;5;241m*\u001b[39m\u001b[38;5;241m*\u001b[39mkwargs)\n",
      "File \u001b[1;32m~\\anaconda3\\envs\\tf2\\lib\\site-packages\\pandas\\io\\json\\_json.py:733\u001b[0m, in \u001b[0;36mread_json\u001b[1;34m(path_or_buf, orient, typ, dtype, convert_axes, convert_dates, keep_default_dates, numpy, precise_float, date_unit, encoding, encoding_errors, lines, chunksize, compression, nrows, storage_options)\u001b[0m\n\u001b[0;32m    730\u001b[0m \u001b[38;5;28;01mif\u001b[39;00m convert_axes \u001b[38;5;129;01mis\u001b[39;00m \u001b[38;5;28;01mNone\u001b[39;00m \u001b[38;5;129;01mand\u001b[39;00m orient \u001b[38;5;241m!=\u001b[39m \u001b[38;5;124m\"\u001b[39m\u001b[38;5;124mtable\u001b[39m\u001b[38;5;124m\"\u001b[39m:\n\u001b[0;32m    731\u001b[0m     convert_axes \u001b[38;5;241m=\u001b[39m \u001b[38;5;28;01mTrue\u001b[39;00m\n\u001b[1;32m--> 733\u001b[0m json_reader \u001b[38;5;241m=\u001b[39m \u001b[43mJsonReader\u001b[49m\u001b[43m(\u001b[49m\n\u001b[0;32m    734\u001b[0m \u001b[43m    \u001b[49m\u001b[43mpath_or_buf\u001b[49m\u001b[43m,\u001b[49m\n\u001b[0;32m    735\u001b[0m \u001b[43m    \u001b[49m\u001b[43morient\u001b[49m\u001b[38;5;241;43m=\u001b[39;49m\u001b[43morient\u001b[49m\u001b[43m,\u001b[49m\n\u001b[0;32m    736\u001b[0m \u001b[43m    \u001b[49m\u001b[43mtyp\u001b[49m\u001b[38;5;241;43m=\u001b[39;49m\u001b[43mtyp\u001b[49m\u001b[43m,\u001b[49m\n\u001b[0;32m    737\u001b[0m \u001b[43m    \u001b[49m\u001b[43mdtype\u001b[49m\u001b[38;5;241;43m=\u001b[39;49m\u001b[43mdtype\u001b[49m\u001b[43m,\u001b[49m\n\u001b[0;32m    738\u001b[0m \u001b[43m    \u001b[49m\u001b[43mconvert_axes\u001b[49m\u001b[38;5;241;43m=\u001b[39;49m\u001b[43mconvert_axes\u001b[49m\u001b[43m,\u001b[49m\n\u001b[0;32m    739\u001b[0m \u001b[43m    \u001b[49m\u001b[43mconvert_dates\u001b[49m\u001b[38;5;241;43m=\u001b[39;49m\u001b[43mconvert_dates\u001b[49m\u001b[43m,\u001b[49m\n\u001b[0;32m    740\u001b[0m \u001b[43m    \u001b[49m\u001b[43mkeep_default_dates\u001b[49m\u001b[38;5;241;43m=\u001b[39;49m\u001b[43mkeep_default_dates\u001b[49m\u001b[43m,\u001b[49m\n\u001b[0;32m    741\u001b[0m \u001b[43m    \u001b[49m\u001b[43mnumpy\u001b[49m\u001b[38;5;241;43m=\u001b[39;49m\u001b[43mnumpy\u001b[49m\u001b[43m,\u001b[49m\n\u001b[0;32m    742\u001b[0m \u001b[43m    \u001b[49m\u001b[43mprecise_float\u001b[49m\u001b[38;5;241;43m=\u001b[39;49m\u001b[43mprecise_float\u001b[49m\u001b[43m,\u001b[49m\n\u001b[0;32m    743\u001b[0m \u001b[43m    \u001b[49m\u001b[43mdate_unit\u001b[49m\u001b[38;5;241;43m=\u001b[39;49m\u001b[43mdate_unit\u001b[49m\u001b[43m,\u001b[49m\n\u001b[0;32m    744\u001b[0m \u001b[43m    \u001b[49m\u001b[43mencoding\u001b[49m\u001b[38;5;241;43m=\u001b[39;49m\u001b[43mencoding\u001b[49m\u001b[43m,\u001b[49m\n\u001b[0;32m    745\u001b[0m \u001b[43m    \u001b[49m\u001b[43mlines\u001b[49m\u001b[38;5;241;43m=\u001b[39;49m\u001b[43mlines\u001b[49m\u001b[43m,\u001b[49m\n\u001b[0;32m    746\u001b[0m \u001b[43m    \u001b[49m\u001b[43mchunksize\u001b[49m\u001b[38;5;241;43m=\u001b[39;49m\u001b[43mchunksize\u001b[49m\u001b[43m,\u001b[49m\n\u001b[0;32m    747\u001b[0m \u001b[43m    \u001b[49m\u001b[43mcompression\u001b[49m\u001b[38;5;241;43m=\u001b[39;49m\u001b[43mcompression\u001b[49m\u001b[43m,\u001b[49m\n\u001b[0;32m    748\u001b[0m \u001b[43m    \u001b[49m\u001b[43mnrows\u001b[49m\u001b[38;5;241;43m=\u001b[39;49m\u001b[43mnrows\u001b[49m\u001b[43m,\u001b[49m\n\u001b[0;32m    749\u001b[0m \u001b[43m    \u001b[49m\u001b[43mstorage_options\u001b[49m\u001b[38;5;241;43m=\u001b[39;49m\u001b[43mstorage_options\u001b[49m\u001b[43m,\u001b[49m\n\u001b[0;32m    750\u001b[0m \u001b[43m    \u001b[49m\u001b[43mencoding_errors\u001b[49m\u001b[38;5;241;43m=\u001b[39;49m\u001b[43mencoding_errors\u001b[49m\u001b[43m,\u001b[49m\n\u001b[0;32m    751\u001b[0m \u001b[43m\u001b[49m\u001b[43m)\u001b[49m\n\u001b[0;32m    753\u001b[0m \u001b[38;5;28;01mif\u001b[39;00m chunksize:\n\u001b[0;32m    754\u001b[0m     \u001b[38;5;28;01mreturn\u001b[39;00m json_reader\n",
      "File \u001b[1;32m~\\anaconda3\\envs\\tf2\\lib\\site-packages\\pandas\\io\\json\\_json.py:818\u001b[0m, in \u001b[0;36mJsonReader.__init__\u001b[1;34m(self, filepath_or_buffer, orient, typ, dtype, convert_axes, convert_dates, keep_default_dates, numpy, precise_float, date_unit, encoding, lines, chunksize, compression, nrows, storage_options, encoding_errors)\u001b[0m\n\u001b[0;32m    815\u001b[0m     \u001b[38;5;28;01mif\u001b[39;00m \u001b[38;5;129;01mnot\u001b[39;00m \u001b[38;5;28mself\u001b[39m\u001b[38;5;241m.\u001b[39mlines:\n\u001b[0;32m    816\u001b[0m         \u001b[38;5;28;01mraise\u001b[39;00m \u001b[38;5;167;01mValueError\u001b[39;00m(\u001b[38;5;124m\"\u001b[39m\u001b[38;5;124mnrows can only be passed if lines=True\u001b[39m\u001b[38;5;124m\"\u001b[39m)\n\u001b[1;32m--> 818\u001b[0m data \u001b[38;5;241m=\u001b[39m \u001b[38;5;28;43mself\u001b[39;49m\u001b[38;5;241;43m.\u001b[39;49m\u001b[43m_get_data_from_filepath\u001b[49m\u001b[43m(\u001b[49m\u001b[43mfilepath_or_buffer\u001b[49m\u001b[43m)\u001b[49m\n\u001b[0;32m    819\u001b[0m \u001b[38;5;28mself\u001b[39m\u001b[38;5;241m.\u001b[39mdata \u001b[38;5;241m=\u001b[39m \u001b[38;5;28mself\u001b[39m\u001b[38;5;241m.\u001b[39m_preprocess_data(data)\n",
      "File \u001b[1;32m~\\anaconda3\\envs\\tf2\\lib\\site-packages\\pandas\\io\\json\\_json.py:874\u001b[0m, in \u001b[0;36mJsonReader._get_data_from_filepath\u001b[1;34m(self, filepath_or_buffer)\u001b[0m\n\u001b[0;32m    866\u001b[0m     filepath_or_buffer \u001b[38;5;241m=\u001b[39m \u001b[38;5;28mself\u001b[39m\u001b[38;5;241m.\u001b[39mhandles\u001b[38;5;241m.\u001b[39mhandle\n\u001b[0;32m    867\u001b[0m \u001b[38;5;28;01melif\u001b[39;00m (\n\u001b[0;32m    868\u001b[0m     \u001b[38;5;28misinstance\u001b[39m(filepath_or_buffer, \u001b[38;5;28mstr\u001b[39m)\n\u001b[0;32m    869\u001b[0m     \u001b[38;5;129;01mand\u001b[39;00m filepath_or_buffer\u001b[38;5;241m.\u001b[39mlower()\u001b[38;5;241m.\u001b[39mendswith(\n\u001b[1;32m   (...)\u001b[0m\n\u001b[0;32m    872\u001b[0m     \u001b[38;5;129;01mand\u001b[39;00m \u001b[38;5;129;01mnot\u001b[39;00m file_exists(filepath_or_buffer)\n\u001b[0;32m    873\u001b[0m ):\n\u001b[1;32m--> 874\u001b[0m     \u001b[38;5;28;01mraise\u001b[39;00m \u001b[38;5;167;01mFileNotFoundError\u001b[39;00m(\u001b[38;5;124mf\u001b[39m\u001b[38;5;124m\"\u001b[39m\u001b[38;5;124mFile \u001b[39m\u001b[38;5;132;01m{\u001b[39;00mfilepath_or_buffer\u001b[38;5;132;01m}\u001b[39;00m\u001b[38;5;124m does not exist\u001b[39m\u001b[38;5;124m\"\u001b[39m)\n\u001b[0;32m    876\u001b[0m \u001b[38;5;28;01mreturn\u001b[39;00m filepath_or_buffer\n",
      "\u001b[1;31mFileNotFoundError\u001b[0m: File data/1_raw_data/photos.json does not exist"
     ]
    }
   ],
   "source": [
    "photos = pd.read_json(RAW_PATH + 'photos.json', lines=True)"
   ]
  },
  {
   "cell_type": "code",
   "execution_count": null,
   "id": "2336358f-10c5-42e7-aa76-5548c05604ee",
   "metadata": {},
   "outputs": [],
   "source": [
    "photos.head()"
   ]
  },
  {
   "cell_type": "code",
   "execution_count": null,
   "id": "da083a08-7491-4d7f-9bc5-6fbe45a0443a",
   "metadata": {},
   "outputs": [],
   "source": [
    "photos.label.value_counts()"
   ]
  },
  {
   "cell_type": "markdown",
   "id": "e4d38b92-230b-479e-b4ab-0c354dbe2e04",
   "metadata": {},
   "source": [
    "## 1.4. Divers"
   ]
  },
  {
   "cell_type": "markdown",
   "id": "51f9b7fe-3079-4a1c-b146-c061df481ffc",
   "metadata": {
    "jp-MarkdownHeadingCollapsed": true,
    "tags": []
   },
   "source": [
    "### Users"
   ]
  },
  {
   "cell_type": "code",
   "execution_count": 5,
   "id": "46238c8a-0b5b-4571-a56e-2ae992b1ee8e",
   "metadata": {},
   "outputs": [],
   "source": [
    "user = pd.read_json(RAW_PATH + 'user.json', lines=True)"
   ]
  },
  {
   "cell_type": "code",
   "execution_count": 6,
   "id": "9f40c05c-f9b8-477b-a9f5-193d3ba497d5",
   "metadata": {},
   "outputs": [
    {
     "data": {
      "text/plain": [
       "(1987897, 22)"
      ]
     },
     "execution_count": 6,
     "metadata": {},
     "output_type": "execute_result"
    }
   ],
   "source": [
    "user.shape"
   ]
  },
  {
   "cell_type": "code",
   "execution_count": 7,
   "id": "02b35310-0d0a-480e-830e-d8d8525ea06d",
   "metadata": {},
   "outputs": [
    {
     "data": {
      "text/html": [
       "<div>\n",
       "<style scoped>\n",
       "    .dataframe tbody tr th:only-of-type {\n",
       "        vertical-align: middle;\n",
       "    }\n",
       "\n",
       "    .dataframe tbody tr th {\n",
       "        vertical-align: top;\n",
       "    }\n",
       "\n",
       "    .dataframe thead th {\n",
       "        text-align: right;\n",
       "    }\n",
       "</style>\n",
       "<table border=\"1\" class=\"dataframe\">\n",
       "  <thead>\n",
       "    <tr style=\"text-align: right;\">\n",
       "      <th></th>\n",
       "      <th>user_id</th>\n",
       "      <th>name</th>\n",
       "      <th>review_count</th>\n",
       "      <th>yelping_since</th>\n",
       "      <th>useful</th>\n",
       "      <th>funny</th>\n",
       "      <th>cool</th>\n",
       "      <th>elite</th>\n",
       "      <th>friends</th>\n",
       "      <th>fans</th>\n",
       "      <th>...</th>\n",
       "      <th>compliment_more</th>\n",
       "      <th>compliment_profile</th>\n",
       "      <th>compliment_cute</th>\n",
       "      <th>compliment_list</th>\n",
       "      <th>compliment_note</th>\n",
       "      <th>compliment_plain</th>\n",
       "      <th>compliment_cool</th>\n",
       "      <th>compliment_funny</th>\n",
       "      <th>compliment_writer</th>\n",
       "      <th>compliment_photos</th>\n",
       "    </tr>\n",
       "  </thead>\n",
       "  <tbody>\n",
       "    <tr>\n",
       "      <th>62486</th>\n",
       "      <td>w0IZ2yuJVWq156DVEByRhQ</td>\n",
       "      <td>Jenny</td>\n",
       "      <td>69</td>\n",
       "      <td>2012-05-23 16:10:08</td>\n",
       "      <td>75</td>\n",
       "      <td>29</td>\n",
       "      <td>32</td>\n",
       "      <td></td>\n",
       "      <td>hS_WWVxGrz6834G63Zeh2w, K2i0_MbHvKqqxc9eWUk_WQ...</td>\n",
       "      <td>3</td>\n",
       "      <td>...</td>\n",
       "      <td>0</td>\n",
       "      <td>0</td>\n",
       "      <td>0</td>\n",
       "      <td>0</td>\n",
       "      <td>2</td>\n",
       "      <td>4</td>\n",
       "      <td>2</td>\n",
       "      <td>2</td>\n",
       "      <td>1</td>\n",
       "      <td>0</td>\n",
       "    </tr>\n",
       "    <tr>\n",
       "      <th>1022</th>\n",
       "      <td>73kIryVqqekf3-mlBd4ocQ</td>\n",
       "      <td>Hilary</td>\n",
       "      <td>160</td>\n",
       "      <td>2010-12-23 00:01:27</td>\n",
       "      <td>431</td>\n",
       "      <td>97</td>\n",
       "      <td>229</td>\n",
       "      <td>2011,2013,2014,2015,2016,2017,2018</td>\n",
       "      <td>Y1q1tQV-MRmNmXg59PPVuA, ie3nXtDTyHhJchMuYh_WXQ...</td>\n",
       "      <td>25</td>\n",
       "      <td>...</td>\n",
       "      <td>8</td>\n",
       "      <td>2</td>\n",
       "      <td>0</td>\n",
       "      <td>5</td>\n",
       "      <td>50</td>\n",
       "      <td>25</td>\n",
       "      <td>63</td>\n",
       "      <td>63</td>\n",
       "      <td>27</td>\n",
       "      <td>4</td>\n",
       "    </tr>\n",
       "    <tr>\n",
       "      <th>1884115</th>\n",
       "      <td>RPBg_3Zn7ZVsyi8qNo4Ghw</td>\n",
       "      <td>Aracely</td>\n",
       "      <td>4</td>\n",
       "      <td>2014-08-30 23:25:40</td>\n",
       "      <td>1</td>\n",
       "      <td>0</td>\n",
       "      <td>0</td>\n",
       "      <td></td>\n",
       "      <td>fDwJhM_24LhBN3e1lqGYew</td>\n",
       "      <td>0</td>\n",
       "      <td>...</td>\n",
       "      <td>0</td>\n",
       "      <td>0</td>\n",
       "      <td>0</td>\n",
       "      <td>0</td>\n",
       "      <td>0</td>\n",
       "      <td>0</td>\n",
       "      <td>0</td>\n",
       "      <td>0</td>\n",
       "      <td>0</td>\n",
       "      <td>0</td>\n",
       "    </tr>\n",
       "    <tr>\n",
       "      <th>1530299</th>\n",
       "      <td>x2MmmIxDJ3QB7Hcx-z5G-Q</td>\n",
       "      <td>Terri</td>\n",
       "      <td>1</td>\n",
       "      <td>2012-04-03 16:05:54</td>\n",
       "      <td>0</td>\n",
       "      <td>0</td>\n",
       "      <td>0</td>\n",
       "      <td></td>\n",
       "      <td>None</td>\n",
       "      <td>0</td>\n",
       "      <td>...</td>\n",
       "      <td>0</td>\n",
       "      <td>0</td>\n",
       "      <td>0</td>\n",
       "      <td>0</td>\n",
       "      <td>0</td>\n",
       "      <td>0</td>\n",
       "      <td>0</td>\n",
       "      <td>0</td>\n",
       "      <td>0</td>\n",
       "      <td>0</td>\n",
       "    </tr>\n",
       "    <tr>\n",
       "      <th>16101</th>\n",
       "      <td>ATOtdED7E85eDnyvXF0qUQ</td>\n",
       "      <td>Kimberly</td>\n",
       "      <td>34</td>\n",
       "      <td>2011-11-07 19:56:17</td>\n",
       "      <td>28</td>\n",
       "      <td>3</td>\n",
       "      <td>8</td>\n",
       "      <td></td>\n",
       "      <td>Yki5UutDjvgtiNcXNcjxGg, pfDShTLPKH669C311wi8HQ...</td>\n",
       "      <td>4</td>\n",
       "      <td>...</td>\n",
       "      <td>0</td>\n",
       "      <td>0</td>\n",
       "      <td>0</td>\n",
       "      <td>0</td>\n",
       "      <td>1</td>\n",
       "      <td>0</td>\n",
       "      <td>0</td>\n",
       "      <td>0</td>\n",
       "      <td>0</td>\n",
       "      <td>0</td>\n",
       "    </tr>\n",
       "  </tbody>\n",
       "</table>\n",
       "<p>5 rows × 22 columns</p>\n",
       "</div>"
      ],
      "text/plain": [
       "                        user_id      name  review_count        yelping_since  \\\n",
       "62486    w0IZ2yuJVWq156DVEByRhQ     Jenny            69  2012-05-23 16:10:08   \n",
       "1022     73kIryVqqekf3-mlBd4ocQ    Hilary           160  2010-12-23 00:01:27   \n",
       "1884115  RPBg_3Zn7ZVsyi8qNo4Ghw   Aracely             4  2014-08-30 23:25:40   \n",
       "1530299  x2MmmIxDJ3QB7Hcx-z5G-Q     Terri             1  2012-04-03 16:05:54   \n",
       "16101    ATOtdED7E85eDnyvXF0qUQ  Kimberly            34  2011-11-07 19:56:17   \n",
       "\n",
       "         useful  funny  cool                               elite  \\\n",
       "62486        75     29    32                                       \n",
       "1022        431     97   229  2011,2013,2014,2015,2016,2017,2018   \n",
       "1884115       1      0     0                                       \n",
       "1530299       0      0     0                                       \n",
       "16101        28      3     8                                       \n",
       "\n",
       "                                                   friends  fans  ...  \\\n",
       "62486    hS_WWVxGrz6834G63Zeh2w, K2i0_MbHvKqqxc9eWUk_WQ...     3  ...   \n",
       "1022     Y1q1tQV-MRmNmXg59PPVuA, ie3nXtDTyHhJchMuYh_WXQ...    25  ...   \n",
       "1884115                             fDwJhM_24LhBN3e1lqGYew     0  ...   \n",
       "1530299                                               None     0  ...   \n",
       "16101    Yki5UutDjvgtiNcXNcjxGg, pfDShTLPKH669C311wi8HQ...     4  ...   \n",
       "\n",
       "         compliment_more  compliment_profile  compliment_cute  \\\n",
       "62486                  0                   0                0   \n",
       "1022                   8                   2                0   \n",
       "1884115                0                   0                0   \n",
       "1530299                0                   0                0   \n",
       "16101                  0                   0                0   \n",
       "\n",
       "         compliment_list  compliment_note  compliment_plain  compliment_cool  \\\n",
       "62486                  0                2                 4                2   \n",
       "1022                   5               50                25               63   \n",
       "1884115                0                0                 0                0   \n",
       "1530299                0                0                 0                0   \n",
       "16101                  0                1                 0                0   \n",
       "\n",
       "         compliment_funny  compliment_writer  compliment_photos  \n",
       "62486                   2                  1                  0  \n",
       "1022                   63                 27                  4  \n",
       "1884115                 0                  0                  0  \n",
       "1530299                 0                  0                  0  \n",
       "16101                   0                  0                  0  \n",
       "\n",
       "[5 rows x 22 columns]"
      ]
     },
     "execution_count": 7,
     "metadata": {},
     "output_type": "execute_result"
    }
   ],
   "source": [
    "user.sample(5)"
   ]
  },
  {
   "cell_type": "markdown",
   "id": "aaecc168-f2d7-42a7-95ad-684e972805fc",
   "metadata": {
    "jp-MarkdownHeadingCollapsed": true,
    "tags": []
   },
   "source": [
    "### Checkin"
   ]
  },
  {
   "cell_type": "code",
   "execution_count": 8,
   "id": "f13da48d-37b0-440f-b69c-5d496df2e653",
   "metadata": {},
   "outputs": [],
   "source": [
    "checkin = pd.read_json(RAW_PATH + 'checkin.json', lines=True)"
   ]
  },
  {
   "cell_type": "code",
   "execution_count": 9,
   "id": "c32eb79f-7649-4807-abc4-6345718ee021",
   "metadata": {},
   "outputs": [
    {
     "data": {
      "text/plain": [
       "(131930, 2)"
      ]
     },
     "execution_count": 9,
     "metadata": {},
     "output_type": "execute_result"
    }
   ],
   "source": [
    "checkin.shape"
   ]
  },
  {
   "cell_type": "code",
   "execution_count": 10,
   "id": "59135991-98b4-4874-96a2-a3f725b0c804",
   "metadata": {},
   "outputs": [
    {
     "data": {
      "text/html": [
       "<div>\n",
       "<style scoped>\n",
       "    .dataframe tbody tr th:only-of-type {\n",
       "        vertical-align: middle;\n",
       "    }\n",
       "\n",
       "    .dataframe tbody tr th {\n",
       "        vertical-align: top;\n",
       "    }\n",
       "\n",
       "    .dataframe thead th {\n",
       "        text-align: right;\n",
       "    }\n",
       "</style>\n",
       "<table border=\"1\" class=\"dataframe\">\n",
       "  <thead>\n",
       "    <tr style=\"text-align: right;\">\n",
       "      <th></th>\n",
       "      <th>business_id</th>\n",
       "      <th>date</th>\n",
       "    </tr>\n",
       "  </thead>\n",
       "  <tbody>\n",
       "    <tr>\n",
       "      <th>109360</th>\n",
       "      <td>pB9AaRfSnm9Rtc54beUccg</td>\n",
       "      <td>2011-12-20 00:16:58, 2012-03-31 17:59:51, 2012...</td>\n",
       "    </tr>\n",
       "    <tr>\n",
       "      <th>90205</th>\n",
       "      <td>fq2i-UQ5h1sscPnyq1JO1A</td>\n",
       "      <td>2013-10-27 18:02:16, 2013-11-15 00:04:19, 2014...</td>\n",
       "    </tr>\n",
       "    <tr>\n",
       "      <th>84605</th>\n",
       "      <td>d7deQyYhH_RRc45AQImMXw</td>\n",
       "      <td>2012-06-16 22:08:26, 2012-07-19 23:03:06, 2012...</td>\n",
       "    </tr>\n",
       "    <tr>\n",
       "      <th>123253</th>\n",
       "      <td>vsP4Zk-9nbDlVX79DpdQfA</td>\n",
       "      <td>2017-03-15 15:43:09</td>\n",
       "    </tr>\n",
       "    <tr>\n",
       "      <th>89735</th>\n",
       "      <td>fbCAXeed92ayKpu1xBCMxw</td>\n",
       "      <td>2011-02-14 23:29:00, 2011-06-21 00:02:15, 2011...</td>\n",
       "    </tr>\n",
       "  </tbody>\n",
       "</table>\n",
       "</div>"
      ],
      "text/plain": [
       "                   business_id  \\\n",
       "109360  pB9AaRfSnm9Rtc54beUccg   \n",
       "90205   fq2i-UQ5h1sscPnyq1JO1A   \n",
       "84605   d7deQyYhH_RRc45AQImMXw   \n",
       "123253  vsP4Zk-9nbDlVX79DpdQfA   \n",
       "89735   fbCAXeed92ayKpu1xBCMxw   \n",
       "\n",
       "                                                     date  \n",
       "109360  2011-12-20 00:16:58, 2012-03-31 17:59:51, 2012...  \n",
       "90205   2013-10-27 18:02:16, 2013-11-15 00:04:19, 2014...  \n",
       "84605   2012-06-16 22:08:26, 2012-07-19 23:03:06, 2012...  \n",
       "123253                                2017-03-15 15:43:09  \n",
       "89735   2011-02-14 23:29:00, 2011-06-21 00:02:15, 2011...  "
      ]
     },
     "execution_count": 10,
     "metadata": {},
     "output_type": "execute_result"
    }
   ],
   "source": [
    "checkin.sample(5)"
   ]
  },
  {
   "cell_type": "markdown",
   "id": "590ceef2-9461-4ea3-86bc-0d043f4be16a",
   "metadata": {
    "jp-MarkdownHeadingCollapsed": true,
    "tags": []
   },
   "source": [
    "### Tip"
   ]
  },
  {
   "cell_type": "code",
   "execution_count": 11,
   "id": "cf40a47b-847b-4178-a1db-65f98dbfd6f7",
   "metadata": {},
   "outputs": [],
   "source": [
    "tip = pd.read_json(RAW_PATH + 'tip.json', lines=True)"
   ]
  },
  {
   "cell_type": "code",
   "execution_count": 12,
   "id": "1983811a-84ce-4385-bd6f-c3161e334121",
   "metadata": {},
   "outputs": [
    {
     "data": {
      "text/plain": [
       "(908915, 5)"
      ]
     },
     "execution_count": 12,
     "metadata": {},
     "output_type": "execute_result"
    }
   ],
   "source": [
    "tip.shape"
   ]
  },
  {
   "cell_type": "code",
   "execution_count": 13,
   "id": "511fc946-0e9d-451b-b5c7-2e0898d40632",
   "metadata": {},
   "outputs": [
    {
     "data": {
      "text/html": [
       "<div>\n",
       "<style scoped>\n",
       "    .dataframe tbody tr th:only-of-type {\n",
       "        vertical-align: middle;\n",
       "    }\n",
       "\n",
       "    .dataframe tbody tr th {\n",
       "        vertical-align: top;\n",
       "    }\n",
       "\n",
       "    .dataframe thead th {\n",
       "        text-align: right;\n",
       "    }\n",
       "</style>\n",
       "<table border=\"1\" class=\"dataframe\">\n",
       "  <thead>\n",
       "    <tr style=\"text-align: right;\">\n",
       "      <th></th>\n",
       "      <th>user_id</th>\n",
       "      <th>business_id</th>\n",
       "      <th>text</th>\n",
       "      <th>date</th>\n",
       "      <th>compliment_count</th>\n",
       "    </tr>\n",
       "  </thead>\n",
       "  <tbody>\n",
       "    <tr>\n",
       "      <th>860844</th>\n",
       "      <td>wygcxXJRIRS7JwfgzclCBw</td>\n",
       "      <td>mnwTbHyIgpMvOG9705zqWA</td>\n",
       "      <td>$25 for self guided museum tour</td>\n",
       "      <td>2014-07-14 19:18:41</td>\n",
       "      <td>0</td>\n",
       "    </tr>\n",
       "    <tr>\n",
       "      <th>542099</th>\n",
       "      <td>BuOsix4f-FZLQLxW57QbQg</td>\n",
       "      <td>nYsNsyIppe_DTueBha1x9A</td>\n",
       "      <td>Great food</td>\n",
       "      <td>2021-03-19 15:22:45</td>\n",
       "      <td>0</td>\n",
       "    </tr>\n",
       "    <tr>\n",
       "      <th>410988</th>\n",
       "      <td>vekEZkHLDO3iqm90es-rmw</td>\n",
       "      <td>dXTXpAK6IpeR8PLFY7D-AQ</td>\n",
       "      <td>Waitlist available now ahead of time instead o...</td>\n",
       "      <td>2021-07-17 23:47:18</td>\n",
       "      <td>0</td>\n",
       "    </tr>\n",
       "    <tr>\n",
       "      <th>250590</th>\n",
       "      <td>BXw9CYYYayVwgvYIG8eQFA</td>\n",
       "      <td>zuZ8mK0hoEB2Q3r7j-_ZqA</td>\n",
       "      <td>Hire Christian Hunter.</td>\n",
       "      <td>2014-04-20 00:21:47</td>\n",
       "      <td>0</td>\n",
       "    </tr>\n",
       "    <tr>\n",
       "      <th>857349</th>\n",
       "      <td>a91LeshH5vyiDA2w6TZujw</td>\n",
       "      <td>XeeTJDWyvj6JSDxGgG4A6A</td>\n",
       "      <td>Food was DELICIOUS!  The staff was VERY friend...</td>\n",
       "      <td>2020-10-09 01:55:35</td>\n",
       "      <td>0</td>\n",
       "    </tr>\n",
       "  </tbody>\n",
       "</table>\n",
       "</div>"
      ],
      "text/plain": [
       "                       user_id             business_id  \\\n",
       "860844  wygcxXJRIRS7JwfgzclCBw  mnwTbHyIgpMvOG9705zqWA   \n",
       "542099  BuOsix4f-FZLQLxW57QbQg  nYsNsyIppe_DTueBha1x9A   \n",
       "410988  vekEZkHLDO3iqm90es-rmw  dXTXpAK6IpeR8PLFY7D-AQ   \n",
       "250590  BXw9CYYYayVwgvYIG8eQFA  zuZ8mK0hoEB2Q3r7j-_ZqA   \n",
       "857349  a91LeshH5vyiDA2w6TZujw  XeeTJDWyvj6JSDxGgG4A6A   \n",
       "\n",
       "                                                     text                date  \\\n",
       "860844                    $25 for self guided museum tour 2014-07-14 19:18:41   \n",
       "542099                                         Great food 2021-03-19 15:22:45   \n",
       "410988  Waitlist available now ahead of time instead o... 2021-07-17 23:47:18   \n",
       "250590                             Hire Christian Hunter. 2014-04-20 00:21:47   \n",
       "857349  Food was DELICIOUS!  The staff was VERY friend... 2020-10-09 01:55:35   \n",
       "\n",
       "        compliment_count  \n",
       "860844                 0  \n",
       "542099                 0  \n",
       "410988                 0  \n",
       "250590                 0  \n",
       "857349                 0  "
      ]
     },
     "execution_count": 13,
     "metadata": {},
     "output_type": "execute_result"
    }
   ],
   "source": [
    "tip.sample(5)"
   ]
  },
  {
   "cell_type": "markdown",
   "id": "66c1e27a-fa3e-4f74-a4fe-414d00135a6a",
   "metadata": {},
   "source": [
    "# 2. Sélection des données"
   ]
  },
  {
   "cell_type": "markdown",
   "id": "9ef27e30-a30d-45ea-b019-2408fd4cf02a",
   "metadata": {
    "tags": []
   },
   "source": [
    "## 2.1. Sélection des restaurants"
   ]
  },
  {
   "cell_type": "markdown",
   "id": "11d8365b-4c62-4357-8dd7-97fca0cd78ee",
   "metadata": {},
   "source": [
    "Pour pouvoir conserver les avis/reviews des restaurants uniquement, il nous faut réunir les données de review.json et de business.json."
   ]
  },
  {
   "cell_type": "code",
   "execution_count": null,
   "id": "7b378f43-ca56-45da-98b2-2f425beae7a2",
   "metadata": {},
   "outputs": [],
   "source": [
    "merged_data = pd.merge(\n",
    "    review,\n",
    "    business,\n",
    "    how=\"left\",\n",
    ")"
   ]
  },
  {
   "cell_type": "code",
   "execution_count": null,
   "id": "03c676df-f324-42b3-a21d-09e30668e415",
   "metadata": {},
   "outputs": [],
   "source": [
    "merged_data.sample(5)"
   ]
  },
  {
   "cell_type": "markdown",
   "id": "8b7d0af2-11a5-4aee-8663-70088a78e37e",
   "metadata": {},
   "source": [
    "On élimine les lignes dont les catégories ne sont pas renseignés (NaN)."
   ]
  },
  {
   "cell_type": "code",
   "execution_count": null,
   "id": "4f026e0f-79d1-48dc-9d29-709ee81561fa",
   "metadata": {},
   "outputs": [],
   "source": [
    "merged_data.dropna(subset=['categories'], inplace=True)"
   ]
  },
  {
   "cell_type": "code",
   "execution_count": null,
   "id": "4e4fa3e6-7e91-4988-971e-9e980844e5f7",
   "metadata": {},
   "outputs": [],
   "source": [
    "selected_data = merged_data[(merged_data.categories.apply(lambda x: x.count('Restaurant'))>0)]\n",
    "selected_data.shape"
   ]
  },
  {
   "cell_type": "markdown",
   "id": "2719a267-c1b5-4ab1-90b3-e056dc49a74f",
   "metadata": {},
   "source": [
    "Nous n'avons plus que 630 000 avis."
   ]
  },
  {
   "cell_type": "code",
   "execution_count": null,
   "id": "58d6933a-fb6d-4d63-bf4c-b365f4b97d55",
   "metadata": {},
   "outputs": [],
   "source": [
    "selected_data.stars.value_counts()"
   ]
  },
  {
   "cell_type": "code",
   "execution_count": null,
   "id": "338aafe2-eb41-4159-906c-8453a7761699",
   "metadata": {},
   "outputs": [],
   "source": [
    "selected_data.stars.value_counts().plot.pie()"
   ]
  },
  {
   "cell_type": "markdown",
   "id": "56524b27-684c-44b6-8feb-530efb56648e",
   "metadata": {},
   "source": [
    "On peut avoir que les avis sont nettement positifs."
   ]
  },
  {
   "cell_type": "markdown",
   "id": "b01cd655-ecfa-49bf-add2-0dc38f991406",
   "metadata": {},
   "source": [
    "## 2.2. Sélection selon la note"
   ]
  },
  {
   "cell_type": "markdown",
   "id": "fa9d2d60-c395-41a8-b8b9-c96d341847b9",
   "metadata": {
    "tags": []
   },
   "source": [
    "### 2.2.1. Avis négatifs"
   ]
  },
  {
   "cell_type": "code",
   "execution_count": null,
   "id": "3da9af22-01d8-43d0-8f2b-8bb0424a353b",
   "metadata": {},
   "outputs": [],
   "source": [
    "bad_reviews_sample = selected_data[selected_data.stars < 3].sample(7500)"
   ]
  },
  {
   "cell_type": "code",
   "execution_count": null,
   "id": "e83d469f-7b10-4ba9-913d-c3e06769444c",
   "metadata": {},
   "outputs": [],
   "source": [
    "bad_reviews_sample.sample(5)"
   ]
  },
  {
   "cell_type": "code",
   "execution_count": null,
   "id": "f24680e1-c845-4fa3-84f1-e804b180fce0",
   "metadata": {},
   "outputs": [],
   "source": [
    "bad_reviews_sample.shape"
   ]
  },
  {
   "cell_type": "code",
   "execution_count": null,
   "id": "aa0c7aee-aade-473c-93db-75fece2e1e08",
   "metadata": {},
   "outputs": [],
   "source": [
    "bad_reviews_sample_text = bad_reviews_sample.text"
   ]
  },
  {
   "cell_type": "markdown",
   "id": "cb616fae-3c10-4830-b330-ceab2424c996",
   "metadata": {
    "tags": []
   },
   "source": [
    "### 2.2.2. Avis positifs"
   ]
  },
  {
   "cell_type": "code",
   "execution_count": null,
   "id": "4633ce77-d198-442b-9e64-1bb1b94abd9a",
   "metadata": {},
   "outputs": [],
   "source": [
    "good_reviews_sample = selected_data[review.stars > 4].sample(7500)"
   ]
  },
  {
   "cell_type": "code",
   "execution_count": null,
   "id": "4b587b72-2426-4718-9b19-23ca1093010e",
   "metadata": {},
   "outputs": [],
   "source": [
    "good_reviews_sample.sample(5)"
   ]
  },
  {
   "cell_type": "code",
   "execution_count": null,
   "id": "15ad5b46-ca3e-4bc4-9289-5882f25f1a7d",
   "metadata": {},
   "outputs": [],
   "source": [
    "good_reviews_sample_text = good_reviews_sample.text"
   ]
  },
  {
   "cell_type": "markdown",
   "id": "5301b006-555c-401a-acc3-6f03b2152a0d",
   "metadata": {
    "tags": []
   },
   "source": [
    "### 2.2.3. Avis moyen"
   ]
  },
  {
   "cell_type": "code",
   "execution_count": null,
   "id": "66e25e64-fe32-437e-9089-e91242d0863a",
   "metadata": {},
   "outputs": [],
   "source": [
    "reviews_sample = selected_data[(review.stars > 2) & (review.stars < 5)].sample(7500)"
   ]
  },
  {
   "cell_type": "code",
   "execution_count": null,
   "id": "9912b063-7be8-4d6d-90a4-9f1328ff7232",
   "metadata": {},
   "outputs": [],
   "source": [
    "reviews_sample_text = reviews_sample.text"
   ]
  },
  {
   "cell_type": "markdown",
   "id": "8fd4c1f0-04b7-47c4-a789-49168be183ac",
   "metadata": {
    "tags": []
   },
   "source": [
    "### 2.2.4. Réunion des 3 dataset"
   ]
  },
  {
   "cell_type": "code",
   "execution_count": null,
   "id": "1d0ca986-b7ed-435d-8e05-20f8761cfcab",
   "metadata": {},
   "outputs": [],
   "source": [
    "all_reviews = bad_reviews_sample_text.append(good_reviews_sample_text)"
   ]
  },
  {
   "cell_type": "code",
   "execution_count": null,
   "id": "836b7664-2917-4d17-b403-9ba8a14f8db6",
   "metadata": {},
   "outputs": [],
   "source": [
    "all_reviews = all_reviews.append(reviews_sample_text)"
   ]
  },
  {
   "cell_type": "markdown",
   "id": "1f60bf87-8b52-43aa-96dc-6d1266baf679",
   "metadata": {},
   "source": [
    "## 3. Export"
   ]
  },
  {
   "cell_type": "code",
   "execution_count": null,
   "id": "588bc164-a7db-46ed-9403-1c344eb51b6c",
   "metadata": {},
   "outputs": [],
   "source": [
    "bad_reviews_sample_text.to_csv('data/bad_reviews', index=False)"
   ]
  },
  {
   "cell_type": "code",
   "execution_count": null,
   "id": "1dd9be1a-0504-4a88-8633-f07f59785095",
   "metadata": {},
   "outputs": [],
   "source": [
    "good_reviews_sample_text.to_csv('data/good_reviews', index=False)"
   ]
  },
  {
   "cell_type": "code",
   "execution_count": null,
   "id": "1d251f1e-550d-4d6b-93a1-944fb153855f",
   "metadata": {},
   "outputs": [],
   "source": [
    "all_reviews.to_csv('data/sample_reviews', index=False)"
   ]
  }
 ],
 "metadata": {
  "kernelspec": {
   "display_name": "Python 3 (ipykernel)",
   "language": "python",
   "name": "python3"
  },
  "language_info": {
   "codemirror_mode": {
    "name": "ipython",
    "version": 3
   },
   "file_extension": ".py",
   "mimetype": "text/x-python",
   "name": "python",
   "nbconvert_exporter": "python",
   "pygments_lexer": "ipython3",
   "version": "3.9.17"
  }
 },
 "nbformat": 4,
 "nbformat_minor": 5
}
